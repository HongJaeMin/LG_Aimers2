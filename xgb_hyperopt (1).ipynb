{
  "cells": [
    {
      "cell_type": "code",
      "source": [
        "from google.colab import drive\n",
        "drive.mount('/content/drive')"
      ],
      "metadata": {
        "colab": {
          "base_uri": "https://localhost:8080/"
        },
        "id": "-fjKpG6NIjXq",
        "outputId": "a873b386-23da-4cf9-f860-76eb05044a8b"
      },
      "id": "-fjKpG6NIjXq",
      "execution_count": 1,
      "outputs": [
        {
          "output_type": "stream",
          "name": "stdout",
          "text": [
            "Mounted at /content/drive\n"
          ]
        }
      ]
    },
    {
      "cell_type": "code",
      "execution_count": 2,
      "id": "5c415d9d-1111-46ed-bc2d-849c75ab962a",
      "metadata": {
        "id": "5c415d9d-1111-46ed-bc2d-849c75ab962a"
      },
      "outputs": [],
      "source": [
        "import pandas as pd\n",
        "import numpy as np\n",
        "import random\n",
        "import os\n",
        "\n",
        "from sklearn.preprocessing import LabelEncoder\n",
        "from sklearn.model_selection import train_test_split, cross_val_score\n",
        "\n",
        "from hyperopt import hp, STATUS_OK, fmin, tpe, Trials\n",
        "from xgboost import XGBClassifier"
      ]
    },
    {
      "cell_type": "code",
      "source": [
        "import hyperopt\n",
        "print(hyperopt.__version__)\n",
        "print(np.__version__)\n",
        "\n",
        "#!pip install -U numpy"
      ],
      "metadata": {
        "colab": {
          "base_uri": "https://localhost:8080/"
        },
        "id": "YD9PNywu30Sm",
        "outputId": "5931bd9c-d12f-43f4-a76e-5679924371e1"
      },
      "id": "YD9PNywu30Sm",
      "execution_count": 3,
      "outputs": [
        {
          "output_type": "stream",
          "name": "stdout",
          "text": [
            "0.2\n",
            "1.22.4\n"
          ]
        }
      ]
    },
    {
      "cell_type": "code",
      "execution_count": 4,
      "id": "edae871a-b31b-4f06-bb88-0fd1f6660b13",
      "metadata": {
        "id": "edae871a-b31b-4f06-bb88-0fd1f6660b13"
      },
      "outputs": [],
      "source": [
        "def seed_everything(seed):\n",
        "    random.seed(seed)\n",
        "    os.environ['PYTHONHASHSEED'] = str(seed)\n",
        "    np.random.seed(seed)\n",
        "seed_everything(37) # Seed 고정"
      ]
    },
    {
      "cell_type": "code",
      "execution_count": 5,
      "metadata": {
        "id": "VkFjZweaIV4S"
      },
      "outputs": [],
      "source": [
        "data_path = '/content/drive/MyDrive/Colab Notebooks/'\n",
        "\n",
        "train = pd.read_csv(data_path + 'dataset/train.csv')\n",
        "test = pd.read_csv(data_path + 'dataset/test.csv')\n",
        "sample_submission = pd.read_csv(data_path + 'dataset/sample_submission.csv')"
      ],
      "id": "VkFjZweaIV4S"
    },
    {
      "cell_type": "markdown",
      "metadata": {
        "id": "xqrrY7FfIV4T"
      },
      "source": [
        "# **Preprocessing**"
      ],
      "id": "xqrrY7FfIV4T"
    },
    {
      "cell_type": "markdown",
      "source": [
        "## **LabelEncoder**"
      ],
      "metadata": {
        "id": "Z6qwodZpNTlz"
      },
      "id": "Z6qwodZpNTlz"
    },
    {
      "cell_type": "code",
      "execution_count": 6,
      "metadata": {
        "id": "2vUCHhGrIV4U"
      },
      "outputs": [],
      "source": [
        "cols = ['LINE', 'PRODUCT_CODE']\n",
        "\n",
        "for i in cols:\n",
        "    le = LabelEncoder()\n",
        "    le = le.fit(train[i])\n",
        "    train[i] = le.transform(train[i])\n",
        "    \n",
        "    for label in np.unique(test[i]): \n",
        "        if label not in le.classes_: \n",
        "            le.classes_ = np.append(le.classes_, label)\n",
        "    test[i] = le.transform(test[i])"
      ],
      "id": "2vUCHhGrIV4U"
    },
    {
      "cell_type": "markdown",
      "source": [
        "## **drop**"
      ],
      "metadata": {
        "id": "6vO7o4ZKNXiR"
      },
      "id": "6vO7o4ZKNXiR"
    },
    {
      "cell_type": "code",
      "source": [
        "cols = ['PRODUCT_ID', 'TIMESTAMP']\n",
        "for col in cols:\n",
        "    train.drop([col], axis=1, inplace=True)\n",
        "    test.drop([col], axis=1, inplace=True)"
      ],
      "metadata": {
        "id": "eiqu-BwXNZqq"
      },
      "execution_count": 7,
      "outputs": [],
      "id": "eiqu-BwXNZqq"
    },
    {
      "cell_type": "markdown",
      "source": [
        "## **fillna**"
      ],
      "metadata": {
        "id": "UGDMOk6rIoQS"
      },
      "id": "UGDMOk6rIoQS"
    },
    {
      "cell_type": "code",
      "source": [
        "train.fillna(0, inplace=True)\n",
        "test.fillna(0, inplace=True)"
      ],
      "metadata": {
        "id": "rAWWhYGxNty_"
      },
      "execution_count": 8,
      "outputs": [],
      "id": "rAWWhYGxNty_"
    },
    {
      "cell_type": "code",
      "execution_count": 9,
      "metadata": {
        "colab": {
          "base_uri": "https://localhost:8080/"
        },
        "outputId": "d29f3687-aaee-4b83-d2af-3f28fed9c0f8",
        "id": "uD_BgMWjIV4V"
      },
      "outputs": [
        {
          "output_type": "stream",
          "name": "stdout",
          "text": [
            "train shape : (598, 2879) \n",
            "test shape : (310, 2877)\n"
          ]
        }
      ],
      "source": [
        "print('train shape :', train.shape, '\\ntest shape :', test.shape)"
      ],
      "id": "uD_BgMWjIV4V"
    },
    {
      "cell_type": "code",
      "execution_count": 10,
      "id": "5441d44a",
      "metadata": {
        "colab": {
          "base_uri": "https://localhost:8080/",
          "height": 110
        },
        "id": "5441d44a",
        "outputId": "37057da6-5311-4fce-c5ca-9c9305f0c1f1"
      },
      "outputs": [
        {
          "output_type": "execute_result",
          "data": {
            "text/plain": [
              "   Y_Class  Y_Quality  LINE  PRODUCT_CODE  X_1  X_2  X_3  X_4  X_5  X_6  ...  \\\n",
              "0        1   0.533433     2             0  0.0  0.0  0.0  0.0  0.0  0.0  ...   \n",
              "\n",
              "   X_2866  X_2867  X_2868  X_2869  X_2870  X_2871  X_2872  X_2873  X_2874  \\\n",
              "0   39.34   40.89   32.56   34.09   77.77     0.0     0.0     0.0     0.0   \n",
              "\n",
              "   X_2875  \n",
              "0     0.0  \n",
              "\n",
              "[1 rows x 2879 columns]"
            ],
            "text/html": [
              "\n",
              "  <div id=\"df-e6140d92-872a-460b-89f5-38809be9bc58\">\n",
              "    <div class=\"colab-df-container\">\n",
              "      <div>\n",
              "<style scoped>\n",
              "    .dataframe tbody tr th:only-of-type {\n",
              "        vertical-align: middle;\n",
              "    }\n",
              "\n",
              "    .dataframe tbody tr th {\n",
              "        vertical-align: top;\n",
              "    }\n",
              "\n",
              "    .dataframe thead th {\n",
              "        text-align: right;\n",
              "    }\n",
              "</style>\n",
              "<table border=\"1\" class=\"dataframe\">\n",
              "  <thead>\n",
              "    <tr style=\"text-align: right;\">\n",
              "      <th></th>\n",
              "      <th>Y_Class</th>\n",
              "      <th>Y_Quality</th>\n",
              "      <th>LINE</th>\n",
              "      <th>PRODUCT_CODE</th>\n",
              "      <th>X_1</th>\n",
              "      <th>X_2</th>\n",
              "      <th>X_3</th>\n",
              "      <th>X_4</th>\n",
              "      <th>X_5</th>\n",
              "      <th>X_6</th>\n",
              "      <th>...</th>\n",
              "      <th>X_2866</th>\n",
              "      <th>X_2867</th>\n",
              "      <th>X_2868</th>\n",
              "      <th>X_2869</th>\n",
              "      <th>X_2870</th>\n",
              "      <th>X_2871</th>\n",
              "      <th>X_2872</th>\n",
              "      <th>X_2873</th>\n",
              "      <th>X_2874</th>\n",
              "      <th>X_2875</th>\n",
              "    </tr>\n",
              "  </thead>\n",
              "  <tbody>\n",
              "    <tr>\n",
              "      <th>0</th>\n",
              "      <td>1</td>\n",
              "      <td>0.533433</td>\n",
              "      <td>2</td>\n",
              "      <td>0</td>\n",
              "      <td>0.0</td>\n",
              "      <td>0.0</td>\n",
              "      <td>0.0</td>\n",
              "      <td>0.0</td>\n",
              "      <td>0.0</td>\n",
              "      <td>0.0</td>\n",
              "      <td>...</td>\n",
              "      <td>39.34</td>\n",
              "      <td>40.89</td>\n",
              "      <td>32.56</td>\n",
              "      <td>34.09</td>\n",
              "      <td>77.77</td>\n",
              "      <td>0.0</td>\n",
              "      <td>0.0</td>\n",
              "      <td>0.0</td>\n",
              "      <td>0.0</td>\n",
              "      <td>0.0</td>\n",
              "    </tr>\n",
              "  </tbody>\n",
              "</table>\n",
              "<p>1 rows × 2879 columns</p>\n",
              "</div>\n",
              "      <button class=\"colab-df-convert\" onclick=\"convertToInteractive('df-e6140d92-872a-460b-89f5-38809be9bc58')\"\n",
              "              title=\"Convert this dataframe to an interactive table.\"\n",
              "              style=\"display:none;\">\n",
              "        \n",
              "  <svg xmlns=\"http://www.w3.org/2000/svg\" height=\"24px\"viewBox=\"0 0 24 24\"\n",
              "       width=\"24px\">\n",
              "    <path d=\"M0 0h24v24H0V0z\" fill=\"none\"/>\n",
              "    <path d=\"M18.56 5.44l.94 2.06.94-2.06 2.06-.94-2.06-.94-.94-2.06-.94 2.06-2.06.94zm-11 1L8.5 8.5l.94-2.06 2.06-.94-2.06-.94L8.5 2.5l-.94 2.06-2.06.94zm10 10l.94 2.06.94-2.06 2.06-.94-2.06-.94-.94-2.06-.94 2.06-2.06.94z\"/><path d=\"M17.41 7.96l-1.37-1.37c-.4-.4-.92-.59-1.43-.59-.52 0-1.04.2-1.43.59L10.3 9.45l-7.72 7.72c-.78.78-.78 2.05 0 2.83L4 21.41c.39.39.9.59 1.41.59.51 0 1.02-.2 1.41-.59l7.78-7.78 2.81-2.81c.8-.78.8-2.07 0-2.86zM5.41 20L4 18.59l7.72-7.72 1.47 1.35L5.41 20z\"/>\n",
              "  </svg>\n",
              "      </button>\n",
              "      \n",
              "  <style>\n",
              "    .colab-df-container {\n",
              "      display:flex;\n",
              "      flex-wrap:wrap;\n",
              "      gap: 12px;\n",
              "    }\n",
              "\n",
              "    .colab-df-convert {\n",
              "      background-color: #E8F0FE;\n",
              "      border: none;\n",
              "      border-radius: 50%;\n",
              "      cursor: pointer;\n",
              "      display: none;\n",
              "      fill: #1967D2;\n",
              "      height: 32px;\n",
              "      padding: 0 0 0 0;\n",
              "      width: 32px;\n",
              "    }\n",
              "\n",
              "    .colab-df-convert:hover {\n",
              "      background-color: #E2EBFA;\n",
              "      box-shadow: 0px 1px 2px rgba(60, 64, 67, 0.3), 0px 1px 3px 1px rgba(60, 64, 67, 0.15);\n",
              "      fill: #174EA6;\n",
              "    }\n",
              "\n",
              "    [theme=dark] .colab-df-convert {\n",
              "      background-color: #3B4455;\n",
              "      fill: #D2E3FC;\n",
              "    }\n",
              "\n",
              "    [theme=dark] .colab-df-convert:hover {\n",
              "      background-color: #434B5C;\n",
              "      box-shadow: 0px 1px 3px 1px rgba(0, 0, 0, 0.15);\n",
              "      filter: drop-shadow(0px 1px 2px rgba(0, 0, 0, 0.3));\n",
              "      fill: #FFFFFF;\n",
              "    }\n",
              "  </style>\n",
              "\n",
              "      <script>\n",
              "        const buttonEl =\n",
              "          document.querySelector('#df-e6140d92-872a-460b-89f5-38809be9bc58 button.colab-df-convert');\n",
              "        buttonEl.style.display =\n",
              "          google.colab.kernel.accessAllowed ? 'block' : 'none';\n",
              "\n",
              "        async function convertToInteractive(key) {\n",
              "          const element = document.querySelector('#df-e6140d92-872a-460b-89f5-38809be9bc58');\n",
              "          const dataTable =\n",
              "            await google.colab.kernel.invokeFunction('convertToInteractive',\n",
              "                                                     [key], {});\n",
              "          if (!dataTable) return;\n",
              "\n",
              "          const docLinkHtml = 'Like what you see? Visit the ' +\n",
              "            '<a target=\"_blank\" href=https://colab.research.google.com/notebooks/data_table.ipynb>data table notebook</a>'\n",
              "            + ' to learn more about interactive tables.';\n",
              "          element.innerHTML = '';\n",
              "          dataTable['output_type'] = 'display_data';\n",
              "          await google.colab.output.renderOutput(dataTable, element);\n",
              "          const docLink = document.createElement('div');\n",
              "          docLink.innerHTML = docLinkHtml;\n",
              "          element.appendChild(docLink);\n",
              "        }\n",
              "      </script>\n",
              "    </div>\n",
              "  </div>\n",
              "  "
            ]
          },
          "metadata": {},
          "execution_count": 10
        }
      ],
      "source": [
        "train.head(1)"
      ]
    },
    {
      "cell_type": "code",
      "source": [
        "test.head(1)"
      ],
      "metadata": {
        "colab": {
          "base_uri": "https://localhost:8080/",
          "height": 110
        },
        "id": "r58dtWN0ItpF",
        "outputId": "0a571448-c491-42a6-990f-d11ad7928e65"
      },
      "id": "r58dtWN0ItpF",
      "execution_count": 11,
      "outputs": [
        {
          "output_type": "execute_result",
          "data": {
            "text/plain": [
              "   LINE  PRODUCT_CODE  X_1   X_2  X_3   X_4   X_5  X_6   X_7   X_8  ...  \\\n",
              "0     5             2  2.0  94.0  0.0  45.0  10.0  0.0  51.0  10.0  ...   \n",
              "\n",
              "   X_2866  X_2867  X_2868  X_2869  X_2870  X_2871  X_2872  X_2873  X_2874  \\\n",
              "0     0.0     0.0     0.0     0.0     0.0     0.0     0.0     0.0     0.0   \n",
              "\n",
              "   X_2875  \n",
              "0     0.0  \n",
              "\n",
              "[1 rows x 2877 columns]"
            ],
            "text/html": [
              "\n",
              "  <div id=\"df-e151a67d-50c9-4678-89c0-7994e9052ec1\">\n",
              "    <div class=\"colab-df-container\">\n",
              "      <div>\n",
              "<style scoped>\n",
              "    .dataframe tbody tr th:only-of-type {\n",
              "        vertical-align: middle;\n",
              "    }\n",
              "\n",
              "    .dataframe tbody tr th {\n",
              "        vertical-align: top;\n",
              "    }\n",
              "\n",
              "    .dataframe thead th {\n",
              "        text-align: right;\n",
              "    }\n",
              "</style>\n",
              "<table border=\"1\" class=\"dataframe\">\n",
              "  <thead>\n",
              "    <tr style=\"text-align: right;\">\n",
              "      <th></th>\n",
              "      <th>LINE</th>\n",
              "      <th>PRODUCT_CODE</th>\n",
              "      <th>X_1</th>\n",
              "      <th>X_2</th>\n",
              "      <th>X_3</th>\n",
              "      <th>X_4</th>\n",
              "      <th>X_5</th>\n",
              "      <th>X_6</th>\n",
              "      <th>X_7</th>\n",
              "      <th>X_8</th>\n",
              "      <th>...</th>\n",
              "      <th>X_2866</th>\n",
              "      <th>X_2867</th>\n",
              "      <th>X_2868</th>\n",
              "      <th>X_2869</th>\n",
              "      <th>X_2870</th>\n",
              "      <th>X_2871</th>\n",
              "      <th>X_2872</th>\n",
              "      <th>X_2873</th>\n",
              "      <th>X_2874</th>\n",
              "      <th>X_2875</th>\n",
              "    </tr>\n",
              "  </thead>\n",
              "  <tbody>\n",
              "    <tr>\n",
              "      <th>0</th>\n",
              "      <td>5</td>\n",
              "      <td>2</td>\n",
              "      <td>2.0</td>\n",
              "      <td>94.0</td>\n",
              "      <td>0.0</td>\n",
              "      <td>45.0</td>\n",
              "      <td>10.0</td>\n",
              "      <td>0.0</td>\n",
              "      <td>51.0</td>\n",
              "      <td>10.0</td>\n",
              "      <td>...</td>\n",
              "      <td>0.0</td>\n",
              "      <td>0.0</td>\n",
              "      <td>0.0</td>\n",
              "      <td>0.0</td>\n",
              "      <td>0.0</td>\n",
              "      <td>0.0</td>\n",
              "      <td>0.0</td>\n",
              "      <td>0.0</td>\n",
              "      <td>0.0</td>\n",
              "      <td>0.0</td>\n",
              "    </tr>\n",
              "  </tbody>\n",
              "</table>\n",
              "<p>1 rows × 2877 columns</p>\n",
              "</div>\n",
              "      <button class=\"colab-df-convert\" onclick=\"convertToInteractive('df-e151a67d-50c9-4678-89c0-7994e9052ec1')\"\n",
              "              title=\"Convert this dataframe to an interactive table.\"\n",
              "              style=\"display:none;\">\n",
              "        \n",
              "  <svg xmlns=\"http://www.w3.org/2000/svg\" height=\"24px\"viewBox=\"0 0 24 24\"\n",
              "       width=\"24px\">\n",
              "    <path d=\"M0 0h24v24H0V0z\" fill=\"none\"/>\n",
              "    <path d=\"M18.56 5.44l.94 2.06.94-2.06 2.06-.94-2.06-.94-.94-2.06-.94 2.06-2.06.94zm-11 1L8.5 8.5l.94-2.06 2.06-.94-2.06-.94L8.5 2.5l-.94 2.06-2.06.94zm10 10l.94 2.06.94-2.06 2.06-.94-2.06-.94-.94-2.06-.94 2.06-2.06.94z\"/><path d=\"M17.41 7.96l-1.37-1.37c-.4-.4-.92-.59-1.43-.59-.52 0-1.04.2-1.43.59L10.3 9.45l-7.72 7.72c-.78.78-.78 2.05 0 2.83L4 21.41c.39.39.9.59 1.41.59.51 0 1.02-.2 1.41-.59l7.78-7.78 2.81-2.81c.8-.78.8-2.07 0-2.86zM5.41 20L4 18.59l7.72-7.72 1.47 1.35L5.41 20z\"/>\n",
              "  </svg>\n",
              "      </button>\n",
              "      \n",
              "  <style>\n",
              "    .colab-df-container {\n",
              "      display:flex;\n",
              "      flex-wrap:wrap;\n",
              "      gap: 12px;\n",
              "    }\n",
              "\n",
              "    .colab-df-convert {\n",
              "      background-color: #E8F0FE;\n",
              "      border: none;\n",
              "      border-radius: 50%;\n",
              "      cursor: pointer;\n",
              "      display: none;\n",
              "      fill: #1967D2;\n",
              "      height: 32px;\n",
              "      padding: 0 0 0 0;\n",
              "      width: 32px;\n",
              "    }\n",
              "\n",
              "    .colab-df-convert:hover {\n",
              "      background-color: #E2EBFA;\n",
              "      box-shadow: 0px 1px 2px rgba(60, 64, 67, 0.3), 0px 1px 3px 1px rgba(60, 64, 67, 0.15);\n",
              "      fill: #174EA6;\n",
              "    }\n",
              "\n",
              "    [theme=dark] .colab-df-convert {\n",
              "      background-color: #3B4455;\n",
              "      fill: #D2E3FC;\n",
              "    }\n",
              "\n",
              "    [theme=dark] .colab-df-convert:hover {\n",
              "      background-color: #434B5C;\n",
              "      box-shadow: 0px 1px 3px 1px rgba(0, 0, 0, 0.15);\n",
              "      filter: drop-shadow(0px 1px 2px rgba(0, 0, 0, 0.3));\n",
              "      fill: #FFFFFF;\n",
              "    }\n",
              "  </style>\n",
              "\n",
              "      <script>\n",
              "        const buttonEl =\n",
              "          document.querySelector('#df-e151a67d-50c9-4678-89c0-7994e9052ec1 button.colab-df-convert');\n",
              "        buttonEl.style.display =\n",
              "          google.colab.kernel.accessAllowed ? 'block' : 'none';\n",
              "\n",
              "        async function convertToInteractive(key) {\n",
              "          const element = document.querySelector('#df-e151a67d-50c9-4678-89c0-7994e9052ec1');\n",
              "          const dataTable =\n",
              "            await google.colab.kernel.invokeFunction('convertToInteractive',\n",
              "                                                     [key], {});\n",
              "          if (!dataTable) return;\n",
              "\n",
              "          const docLinkHtml = 'Like what you see? Visit the ' +\n",
              "            '<a target=\"_blank\" href=https://colab.research.google.com/notebooks/data_table.ipynb>data table notebook</a>'\n",
              "            + ' to learn more about interactive tables.';\n",
              "          element.innerHTML = '';\n",
              "          dataTable['output_type'] = 'display_data';\n",
              "          await google.colab.output.renderOutput(dataTable, element);\n",
              "          const docLink = document.createElement('div');\n",
              "          docLink.innerHTML = docLinkHtml;\n",
              "          element.appendChild(docLink);\n",
              "        }\n",
              "      </script>\n",
              "    </div>\n",
              "  </div>\n",
              "  "
            ]
          },
          "metadata": {},
          "execution_count": 11
        }
      ]
    },
    {
      "cell_type": "markdown",
      "id": "7e9282cb",
      "metadata": {
        "id": "7e9282cb"
      },
      "source": [
        "# **Model**"
      ]
    },
    {
      "cell_type": "markdown",
      "source": [
        "## **split**"
      ],
      "metadata": {
        "id": "9nTrhsyb6e_F"
      },
      "id": "9nTrhsyb6e_F"
    },
    {
      "cell_type": "code",
      "execution_count": 12,
      "metadata": {
        "id": "WCEJ_OWnI5-u"
      },
      "outputs": [],
      "source": [
        "X = train.drop(columns=['Y_Class', 'Y_Quality']) # data\n",
        "y = train['Y_Class']                             # target\n",
        "\n",
        "X_tst = test"
      ],
      "id": "WCEJ_OWnI5-u"
    },
    {
      "cell_type": "code",
      "source": [
        "X_trn, X_val, y_trn, y_val = train_test_split(\n",
        "    X, y, \n",
        "    test_size=0.07,\n",
        "    stratify=y\n",
        ")"
      ],
      "metadata": {
        "id": "4fDRtNfecVe9"
      },
      "execution_count": 13,
      "outputs": [],
      "id": "4fDRtNfecVe9"
    },
    {
      "cell_type": "code",
      "source": [
        "print('X_trn (data) :', X_trn.shape, '\\ny_trn (target) :', y_trn.shape, \n",
        "      '\\nX_val (data) :', X_val.shape, '\\ny_val (target) :', y_val.shape)"
      ],
      "metadata": {
        "id": "-4u5NfMDxV9g",
        "colab": {
          "base_uri": "https://localhost:8080/"
        },
        "outputId": "7335836f-359e-4fb3-dbf2-169001579e55"
      },
      "execution_count": 14,
      "outputs": [
        {
          "output_type": "stream",
          "name": "stdout",
          "text": [
            "X_trn (data) : (556, 2877) \n",
            "y_trn (target) : (556,) \n",
            "X_val (data) : (42, 2877) \n",
            "y_val (target) : (42,)\n"
          ]
        }
      ],
      "id": "-4u5NfMDxV9g"
    },
    {
      "cell_type": "markdown",
      "source": [
        "## **xgb parameters**"
      ],
      "metadata": {
        "id": "hD6srvQErVKC"
      },
      "id": "hD6srvQErVKC"
    },
    {
      "cell_type": "markdown",
      "source": [
        "- **booster**\n",
        "  - 사용할 부스터 선택\n",
        "  - 'gbtree' : 트리 모델\n",
        "  - 'gblinear' : 선형 모델\n",
        "- **n_estimators**\n",
        "  - 트리 모델 개수\n",
        "  - 100\n",
        "- **learning_rate**\n",
        "  - 학습 단계별로 이전 결과를 얼마나 반영할지 설정 (작을수록 오래 걸림)\n",
        "  - 0.3 `[0, ∞] --- 0.01 ~ 0.2`\n",
        "- min_split_loss\n",
        "  - 트리의 리프 노드에서 추가 분할을 만드는 데 필요한 최소 손실 감소 (클수록 보수적임)\n",
        "  - 0 `[0, ∞]`\n",
        "  - ***과적합이 심하다면, learning_rate 감소(0.01 ~ 0.1) n_estimators 증가***\n",
        "- **max_depth**\n",
        "  - 트리 최대 깊이 (클수록 과적합 가능성 높아짐)\n",
        "  - 6 `[0, ∞] --- 3 ~ 10`\n",
        "  - ***과적합이 심하다면, 감소***\n",
        "- **min_child_weight**\n",
        "  - child에 필요한 instance weight (hessian)의 최소 합계 (클수록 보수적임)\n",
        "  - 1 `[0, ∞]`\n",
        "  - ***과적합이 심하다면, 증가***\n",
        "- max_delta_step\n",
        "  - 클래스가 극도로 불균형할 경우, 로지스틱 회귀에 도움이 됨\n",
        "  - 0 `[0, ∞] --- 1 ~ 10`\n",
        "- **subsample**\n",
        "  - training instances의 subsample 비율로, 과적합 방지 역할 (0.5로 설정하면 학습 데이터의 절반을 랜덤하게 샘플링)\n",
        "  - 1 `(0, 1] --- 0.5 ~ 1`\n",
        "  - ***과적합이 심하다면, 조정***\n",
        "- sampling_method\n",
        "  - training instances를 샘플링하는 데 사용할 method\n",
        "  - uniform : 각 training instances가 선택될 확률이 동일\n",
        "- colsample_by* 매개 변수는 누적적으로 작동\n",
        "  - **colsample_bytree**\n",
        "    - 각 트리를 구성할 때 열의 하위 샘플 비율\n",
        "    - 1 `(0, 1] --- 0.5 ~ 1`\n",
        "    - ***과적합이 심하다면, 조정***\n",
        "  - colsample_bylevel\n",
        "    - 각 수준에 대한 열의 부분표본 비율\n",
        "    - 1 `(0, 1]`\n",
        "  - colsample_bynode\n",
        "    - 각 노드에 대한 열의 하위 표본 비율\n",
        "    - 1 `(0, 1]`\n",
        "- **scale_pos_weight**\n",
        "  - 불균형 클래스에 유용 `음성 데이터 수 / 양성 데이터 수`\n",
        "- **eval_metric**\n",
        "  - logloss"
      ],
      "metadata": {
        "id": "FsDEbMtTeKZ-"
      },
      "id": "FsDEbMtTeKZ-"
    },
    {
      "cell_type": "markdown",
      "source": [
        "## **HyperOpt**"
      ],
      "metadata": {
        "id": "L3uYSxb1eDG-"
      },
      "id": "L3uYSxb1eDG-"
    },
    {
      "cell_type": "code",
      "source": [
        "space = {'learning_rate' : hp.uniform('learning_rate', 0.01, 0.2),\n",
        "         'min_split_loss' : hp.uniform('min_split_loss', 0, 1),\n",
        "         'max_depth' : hp.quniform('max_depth', 3, 15, 1),\n",
        "         'min_child_weight' : hp.quniform('min_child_weight', 1, 10, 1),\n",
        "         'subsample' : hp.uniform('subsample', 0.5, 1),\n",
        "         'colsample_bytree' : hp.uniform('colsample_bytree', 0.5, 1),\n",
        "         'scale_pos_weight' : hp.quniform('scale_pos_weight', 1, 6, 2)} # 'n_estimators' : hp.quniform('n_estimators', 1000, 2000, 100),\n",
        "\n",
        "def objective_func(space):\n",
        "  xgb = XGBClassifier(\n",
        "      learning_rate = space['learning_rate'],\n",
        "      min_split_loss = space['min_split_loss'],\n",
        "      max_depth = int(space['max_depth']),\n",
        "      min_child_weight = int(space['min_child_weight']),\n",
        "      subsample = space['subsample'],\n",
        "      colsample_bytree = space['colsample_bytree'],\n",
        "      scale_pos_weight = int(space['scale_pos_weight']),\n",
        "      n_estimators = 500,\n",
        "  )\n",
        "\n",
        "  accuracy = cross_val_score(\n",
        "      xgb,\n",
        "      X_trn,\n",
        "      y_trn,\n",
        "      scoring = 'accuracy',\n",
        "      cv = 2\n",
        "  )\n",
        "\n",
        "  return {'loss' : -1 * np.mean(accuracy), 'status' : STATUS_OK}"
      ],
      "metadata": {
        "id": "spk2bbgjrmpx"
      },
      "id": "spk2bbgjrmpx",
      "execution_count": 23,
      "outputs": []
    },
    {
      "cell_type": "code",
      "source": [
        "trials = Trials()\n",
        "best = fmin(\n",
        "    fn = objective_func,\n",
        "    space = space,\n",
        "    algo = tpe.suggest,\n",
        "    max_evals = 100,\n",
        "    trials = trials\n",
        ")\n",
        "print('best :', best)"
      ],
      "metadata": {
        "colab": {
          "base_uri": "https://localhost:8080/"
        },
        "id": "R2hEjZ4FwvST",
        "outputId": "20516054-ec23-4a5f-c143-184c246d83b7"
      },
      "id": "R2hEjZ4FwvST",
      "execution_count": null,
      "outputs": [
        {
          "output_type": "stream",
          "name": "stdout",
          "text": [
            "  5%|▌         | 5/100 [05:28<1:52:15, 70.90s/it, best loss: -0.7428057553956835]"
          ]
        }
      ]
    },
    {
      "cell_type": "code",
      "source": [
        "xgb_best = XGBClassifier(\n",
        "    \n",
        ")\n",
        "\n",
        "eval_set = [(X_trn, y_trn), (X_val, y_val)]\n",
        "xgb_best.fit(\n",
        "    X_trn,\n",
        "    y_trn,\n",
        "    early_stopping_rounds=100,\n",
        "    eval_metric='logloss',\n",
        "    eval_set=eval_set,\n",
        "    verbose=True\n",
        ")"
      ],
      "metadata": {
        "id": "GITfcALy7P_1"
      },
      "id": "GITfcALy7P_1",
      "execution_count": null,
      "outputs": []
    },
    {
      "cell_type": "code",
      "source": [
        "pred = xgb_best.predict(X_tst)\n",
        "\n",
        "sample_submission['Y_Class'] = pred\n",
        "sample_submission.to_csv(data_path + 'xgb_hyperopt_1.csv', index=False)"
      ],
      "metadata": {
        "id": "5VgnOtcO8wem"
      },
      "id": "5VgnOtcO8wem",
      "execution_count": null,
      "outputs": []
    },
    {
      "cell_type": "markdown",
      "id": "6605102f",
      "metadata": {
        "id": "6605102f"
      },
      "source": [
        "# **Result**"
      ]
    },
    {
      "cell_type": "code",
      "execution_count": null,
      "id": "4732438c",
      "metadata": {
        "id": "4732438c",
        "outputId": "7c4f48ea-c57b-485a-c012-1cbc36537ce7"
      },
      "outputs": [
        {
          "data": {
            "text/plain": [
              "1    264\n",
              "0     34\n",
              "2     12\n",
              "Name: Y_Class, dtype: int64"
            ]
          },
          "execution_count": 111,
          "metadata": {},
          "output_type": "execute_result"
        }
      ],
      "source": [
        "xgb_hyperopt_1 = pd.read_csv(data_path + 'xgb_hyperopt_1.csv')\n",
        "xgb_hyperopt_1.Y_Class.value_counts()"
      ]
    }
  ],
  "metadata": {
    "kernelspec": {
      "display_name": "py39_env",
      "language": "python",
      "name": "python3"
    },
    "language_info": {
      "codemirror_mode": {
        "name": "ipython",
        "version": 3
      },
      "file_extension": ".py",
      "mimetype": "text/x-python",
      "name": "python",
      "nbconvert_exporter": "python",
      "pygments_lexer": "ipython3",
      "version": "3.9.15"
    },
    "vscode": {
      "interpreter": {
        "hash": "a8c8bec5cc0c362bf9eee36b36fc26918edda74392b07a5cfd5fc0a1c1ef43da"
      }
    },
    "colab": {
      "provenance": []
    },
    "accelerator": "GPU",
    "gpuClass": "standard"
  },
  "nbformat": 4,
  "nbformat_minor": 5
}