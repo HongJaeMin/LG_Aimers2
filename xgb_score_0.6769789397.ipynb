{
 "cells": [
  {
   "cell_type": "code",
   "execution_count": 113,
   "id": "5c415d9d-1111-46ed-bc2d-849c75ab962a",
   "metadata": {},
   "outputs": [],
   "source": [
    "import pandas as pd\n",
    "import numpy as np\n",
    "import random\n",
    "import os\n",
    "\n",
    "from sklearn.preprocessing import LabelEncoder\n",
    "from xgboost import XGBClassifier"
   ]
  },
  {
   "cell_type": "code",
   "execution_count": 114,
   "id": "edae871a-b31b-4f06-bb88-0fd1f6660b13",
   "metadata": {},
   "outputs": [],
   "source": [
    "def seed_everything(seed):\n",
    "    random.seed(seed)\n",
    "    os.environ['PYTHONHASHSEED'] = str(seed)\n",
    "    np.random.seed(seed)\n",
    "seed_everything(37) # Seed 고정"
   ]
  },
  {
   "cell_type": "code",
   "execution_count": 115,
   "id": "ee76c413-001b-475e-9d1c-6662d25d2db2",
   "metadata": {},
   "outputs": [],
   "source": [
    "train_df = pd.read_csv('./train.csv')\n",
    "test_df = pd.read_csv('./test.csv')"
   ]
  },
  {
   "attachments": {},
   "cell_type": "markdown",
   "id": "d6365172",
   "metadata": {},
   "source": [
    "## **전처리**"
   ]
  },
  {
   "cell_type": "code",
   "execution_count": 116,
   "id": "6a9aab65",
   "metadata": {},
   "outputs": [],
   "source": [
    "trn_drop_cols = ['PRODUCT_ID', 'TIMESTAMP',                                             \n",
    "                 'X_934', 'X_935', 'X_936', 'X_937', 'X_2628', 'X_2629', 'X_2630',\n",
    "                 'X_2631', 'X_2632', 'X_2633', 'X_2634', 'X_2635', 'X_2636', 'X_2637',\n",
    "                 'X_2638', 'X_2639', 'X_2640', 'X_2641', 'X_2642', 'X_2643', 'X_2644',\n",
    "                 'X_2645', 'X_2646', 'X_2647', 'X_2648', 'X_2649', 'X_2650', 'X_2651',\n",
    "                 'X_2652', 'X_2653', 'X_2654', 'X_2655', 'X_2656', 'X_2657', 'X_2658',\n",
    "                 'X_2659', 'X_2660', 'X_2661', 'X_2662', 'X_2663', 'X_2664', 'X_2665',\n",
    "                 'X_2666', 'X_2667', 'X_2668', 'X_2669', 'X_2670', 'X_2671', 'X_2672',\n",
    "                 'X_2673', 'X_2674', 'X_2675', 'X_2676', 'X_2677', 'X_2678', 'X_2679',\n",
    "                 'X_2680', 'X_2681', 'X_2682', 'X_2683', 'X_2684', 'X_2685', 'X_2686',\n",
    "                 'X_2687', 'X_2688', 'X_2689', 'X_2690', 'X_2691', 'X_2692', 'X_2693',\n",
    "                 'X_2694', 'X_2695', 'X_2696', 'X_2697', 'X_2698', 'X_2699', 'X_2838',\n",
    "                 'X_2844', 'X_2872', 'X_2873', 'X_2874', 'X_2875']                      # 카운트 0인 X_n 컬럼 drop\n",
    "for col in trn_drop_cols:\n",
    "    train_df.drop([col], axis=1, inplace=True)\n",
    "\n",
    "tst_drop_cols = ['PRODUCT_ID', 'TIMESTAMP',\n",
    "                 'X_934', 'X_935', 'X_936', 'X_937', 'X_2628', 'X_2629', 'X_2630',\n",
    "                 'X_2631', 'X_2632', 'X_2633', 'X_2634', 'X_2635', 'X_2636', 'X_2637',\n",
    "                 'X_2638', 'X_2639', 'X_2640', 'X_2641', 'X_2642', 'X_2643', 'X_2644',\n",
    "                 'X_2645', 'X_2646', 'X_2647', 'X_2648', 'X_2649', 'X_2650', 'X_2651',\n",
    "                 'X_2652', 'X_2653', 'X_2654', 'X_2655', 'X_2656', 'X_2657', 'X_2658',\n",
    "                 'X_2659', 'X_2660', 'X_2661', 'X_2662', 'X_2663', 'X_2664', 'X_2665',\n",
    "                 'X_2666', 'X_2667', 'X_2668', 'X_2669', 'X_2670', 'X_2671', 'X_2672',\n",
    "                 'X_2673', 'X_2674', 'X_2675', 'X_2676', 'X_2677', 'X_2678', 'X_2679',\n",
    "                 'X_2680', 'X_2681', 'X_2682', 'X_2683', 'X_2684', 'X_2685', 'X_2686',\n",
    "                 'X_2687', 'X_2688', 'X_2689', 'X_2690', 'X_2691', 'X_2692', 'X_2693',\n",
    "                 'X_2694', 'X_2695', 'X_2696', 'X_2697', 'X_2698', 'X_2699', 'X_2838',\n",
    "                 'X_2844', 'X_2872', 'X_2873', 'X_2874', 'X_2875']                      # test도 train과 동일하게 drop\n",
    "for col in tst_drop_cols:\n",
    "    test_df.drop([col], axis=1, inplace=True)"
   ]
  },
  {
   "cell_type": "code",
   "execution_count": 117,
   "id": "f710209f-754a-456b-97a5-f7fb4f7e0f51",
   "metadata": {},
   "outputs": [
    {
     "name": "stdout",
     "output_type": "stream",
     "text": [
      "Done.\n"
     ]
    }
   ],
   "source": [
    "drop_cols = ['LINE', 'PRODUCT_CODE']\n",
    "\n",
    "for i in drop_cols:\n",
    "    le = LabelEncoder()\n",
    "    le = le.fit(train_df[i])\n",
    "    train_df[i] = le.transform(train_df[i])\n",
    "    \n",
    "    for label in np.unique(test_df[i]): \n",
    "        if label not in le.classes_: \n",
    "            le.classes_ = np.append(le.classes_, label)\n",
    "    test_df[i] = le.transform(test_df[i]) \n",
    "print('Done.')"
   ]
  },
  {
   "cell_type": "code",
   "execution_count": 118,
   "id": "5441d44a",
   "metadata": {},
   "outputs": [
    {
     "data": {
      "text/html": [
       "<div>\n",
       "<style scoped>\n",
       "    .dataframe tbody tr th:only-of-type {\n",
       "        vertical-align: middle;\n",
       "    }\n",
       "\n",
       "    .dataframe tbody tr th {\n",
       "        vertical-align: top;\n",
       "    }\n",
       "\n",
       "    .dataframe thead th {\n",
       "        text-align: right;\n",
       "    }\n",
       "</style>\n",
       "<table border=\"1\" class=\"dataframe\">\n",
       "  <thead>\n",
       "    <tr style=\"text-align: right;\">\n",
       "      <th></th>\n",
       "      <th>Y_Class</th>\n",
       "      <th>Y_Quality</th>\n",
       "      <th>LINE</th>\n",
       "      <th>PRODUCT_CODE</th>\n",
       "      <th>X_1</th>\n",
       "      <th>X_2</th>\n",
       "      <th>X_3</th>\n",
       "      <th>X_4</th>\n",
       "      <th>X_5</th>\n",
       "      <th>X_6</th>\n",
       "      <th>...</th>\n",
       "      <th>X_2862</th>\n",
       "      <th>X_2863</th>\n",
       "      <th>X_2864</th>\n",
       "      <th>X_2865</th>\n",
       "      <th>X_2866</th>\n",
       "      <th>X_2867</th>\n",
       "      <th>X_2868</th>\n",
       "      <th>X_2869</th>\n",
       "      <th>X_2870</th>\n",
       "      <th>X_2871</th>\n",
       "    </tr>\n",
       "  </thead>\n",
       "  <tbody>\n",
       "    <tr>\n",
       "      <th>0</th>\n",
       "      <td>1</td>\n",
       "      <td>0.533433</td>\n",
       "      <td>2</td>\n",
       "      <td>0</td>\n",
       "      <td>NaN</td>\n",
       "      <td>NaN</td>\n",
       "      <td>NaN</td>\n",
       "      <td>NaN</td>\n",
       "      <td>NaN</td>\n",
       "      <td>NaN</td>\n",
       "      <td>...</td>\n",
       "      <td>189.0</td>\n",
       "      <td>383.0</td>\n",
       "      <td>368.296296</td>\n",
       "      <td>353.0</td>\n",
       "      <td>39.34</td>\n",
       "      <td>40.89</td>\n",
       "      <td>32.56</td>\n",
       "      <td>34.09</td>\n",
       "      <td>77.77</td>\n",
       "      <td>NaN</td>\n",
       "    </tr>\n",
       "  </tbody>\n",
       "</table>\n",
       "<p>1 rows × 2797 columns</p>\n",
       "</div>"
      ],
      "text/plain": [
       "   Y_Class  Y_Quality  LINE  PRODUCT_CODE  X_1  X_2  X_3  X_4  X_5  X_6  ...  \\\n",
       "0        1   0.533433     2             0  NaN  NaN  NaN  NaN  NaN  NaN  ...   \n",
       "\n",
       "   X_2862  X_2863      X_2864  X_2865  X_2866  X_2867  X_2868  X_2869  X_2870  \\\n",
       "0   189.0   383.0  368.296296   353.0   39.34   40.89   32.56   34.09   77.77   \n",
       "\n",
       "   X_2871  \n",
       "0     NaN  \n",
       "\n",
       "[1 rows x 2797 columns]"
      ]
     },
     "execution_count": 118,
     "metadata": {},
     "output_type": "execute_result"
    }
   ],
   "source": [
    "train_df.head(1)"
   ]
  },
  {
   "attachments": {},
   "cell_type": "markdown",
   "id": "7e9282cb",
   "metadata": {},
   "source": [
    "## **모델링**"
   ]
  },
  {
   "cell_type": "code",
   "execution_count": 119,
   "id": "ffc6afcd-a059-4c16-81a5-ab3d4d750a41",
   "metadata": {},
   "outputs": [],
   "source": [
    "train_x = train_df.drop(columns=['Y_Class', 'Y_Quality'])\n",
    "train_y = train_df['Y_Class']\n",
    "\n",
    "test_x = test_df"
   ]
  },
  {
   "cell_type": "code",
   "execution_count": 107,
   "id": "d7672013",
   "metadata": {},
   "outputs": [
    {
     "name": "stderr",
     "output_type": "stream",
     "text": [
      "c:\\Users\\LG\\anaconda3\\envs\\py39_env\\lib\\site-packages\\xgboost\\sklearn.py:1224: UserWarning: The use of label encoder in XGBClassifier is deprecated and will be removed in a future release. To remove this warning, do the following: 1) Pass option use_label_encoder=False when constructing XGBClassifier object; and 2) Encode your labels (y) as integers starting with 0, i.e. 0, 1, 2, ..., [num_class - 1].\n",
      "  warnings.warn(label_encoder_deprecation_msg, UserWarning)\n",
      "c:\\Users\\LG\\anaconda3\\envs\\py39_env\\lib\\site-packages\\xgboost\\data.py:250: FutureWarning: pandas.Int64Index is deprecated and will be removed from pandas in a future version. Use pandas.Index with the appropriate dtype instead.\n",
      "  elif isinstance(data.columns, (pd.Int64Index, pd.RangeIndex)):\n"
     ]
    },
    {
     "name": "stdout",
     "output_type": "stream",
     "text": [
      "[03:08:32] WARNING: ..\\src\\learner.cc:1115: Starting in XGBoost 1.3.0, the default evaluation metric used with the objective 'multi:softprob' was changed from 'merror' to 'mlogloss'. Explicitly set eval_metric if you'd like to restore the old behavior.\n"
     ]
    }
   ],
   "source": [
    "xgb = XGBClassifier(n_estimators=1000, learning_rate=0.05, max_depth=2, random_state=37)\n",
    "xgb.fit(train_x, train_y)\n",
    "pred = xgb.predict(test_x)\n",
    "\n",
    "submit = pd.read_csv('./sample_submission.csv')\n",
    "submit['Y_Class'] = pred\n",
    "\n",
    "submit.to_csv('./submit_3.csv', index=False)"
   ]
  },
  {
   "attachments": {},
   "cell_type": "markdown",
   "id": "6605102f",
   "metadata": {},
   "source": [
    "## **결과**"
   ]
  },
  {
   "cell_type": "code",
   "execution_count": 111,
   "id": "4732438c",
   "metadata": {},
   "outputs": [
    {
     "data": {
      "text/plain": [
       "1    264\n",
       "0     34\n",
       "2     12\n",
       "Name: Y_Class, dtype: int64"
      ]
     },
     "execution_count": 111,
     "metadata": {},
     "output_type": "execute_result"
    }
   ],
   "source": [
    "submit_3 = pd.read_csv('C:\\\\VSC\\\\LG_Aimers\\\\submit_3.csv')\n",
    "submit_3.Y_Class.value_counts()"
   ]
  }
 ],
 "metadata": {
  "kernelspec": {
   "display_name": "py39_env",
   "language": "python",
   "name": "python3"
  },
  "language_info": {
   "codemirror_mode": {
    "name": "ipython",
    "version": 3
   },
   "file_extension": ".py",
   "mimetype": "text/x-python",
   "name": "python",
   "nbconvert_exporter": "python",
   "pygments_lexer": "ipython3",
   "version": "3.9.15"
  },
  "vscode": {
   "interpreter": {
    "hash": "a8c8bec5cc0c362bf9eee36b36fc26918edda74392b07a5cfd5fc0a1c1ef43da"
   }
  }
 },
 "nbformat": 4,
 "nbformat_minor": 5
}
