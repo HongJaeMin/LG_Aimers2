{
  "cells": [
    {
      "cell_type": "code",
      "source": [
        "from google.colab import drive\n",
        "drive.mount('/content/drive')"
      ],
      "metadata": {
        "colab": {
          "base_uri": "https://localhost:8080/"
        },
        "id": "-fjKpG6NIjXq",
        "outputId": "2f823c0e-795c-423c-e719-e2fae43de3d2"
      },
      "id": "-fjKpG6NIjXq",
      "execution_count": null,
      "outputs": [
        {
          "output_type": "stream",
          "name": "stdout",
          "text": [
            "Mounted at /content/drive\n"
          ]
        }
      ]
    },
    {
      "cell_type": "code",
      "execution_count": null,
      "id": "5c415d9d-1111-46ed-bc2d-849c75ab962a",
      "metadata": {
        "id": "5c415d9d-1111-46ed-bc2d-849c75ab962a"
      },
      "outputs": [],
      "source": [
        "import pandas as pd\n",
        "import numpy as np\n",
        "import random\n",
        "import os\n",
        "\n",
        "from sklearn.preprocessing import LabelEncoder\n",
        "from sklearn.model_selection import train_test_split, cross_val_score\n",
        "\n",
        "from hyperopt import hp, STATUS_OK, fmin, tpe, Trials\n",
        "from xgboost import XGBClassifier"
      ]
    },
    {
      "cell_type": "code",
      "source": [
        "import hyperopt\n",
        "print(hyperopt.__version__)\n",
        "print(np.__version__)\n",
        "\n",
        "#!pip install -U numpy"
      ],
      "metadata": {
        "colab": {
          "base_uri": "https://localhost:8080/"
        },
        "id": "YD9PNywu30Sm",
        "outputId": "0b9e46ec-0088-4633-c135-d625d89baee1"
      },
      "id": "YD9PNywu30Sm",
      "execution_count": null,
      "outputs": [
        {
          "output_type": "stream",
          "name": "stdout",
          "text": [
            "0.2\n",
            "1.22.4\n"
          ]
        }
      ]
    },
    {
      "cell_type": "code",
      "execution_count": null,
      "id": "edae871a-b31b-4f06-bb88-0fd1f6660b13",
      "metadata": {
        "id": "edae871a-b31b-4f06-bb88-0fd1f6660b13"
      },
      "outputs": [],
      "source": [
        "def seed_everything(seed):\n",
        "    random.seed(seed)\n",
        "    os.environ['PYTHONHASHSEED'] = str(seed)\n",
        "    np.random.seed(seed)\n",
        "seed_everything(37) # Seed 고정"
      ]
    },
    {
      "cell_type": "code",
      "execution_count": null,
      "metadata": {
        "id": "VkFjZweaIV4S"
      },
      "outputs": [],
      "source": [
        "data_path = '/content/drive/MyDrive/Colab Notebooks/'\n",
        "\n",
        "train = pd.read_csv(data_path + 'dataset/train.csv')\n",
        "test = pd.read_csv(data_path + 'dataset/test.csv')\n",
        "sample_submission = pd.read_csv(data_path + 'dataset/sample_submission.csv')"
      ],
      "id": "VkFjZweaIV4S"
    },
    {
      "cell_type": "markdown",
      "metadata": {
        "id": "xqrrY7FfIV4T"
      },
      "source": [
        "# **Preprocessing**"
      ],
      "id": "xqrrY7FfIV4T"
    },
    {
      "cell_type": "markdown",
      "source": [
        "## **LabelEncoder**"
      ],
      "metadata": {
        "id": "Z6qwodZpNTlz"
      },
      "id": "Z6qwodZpNTlz"
    },
    {
      "cell_type": "code",
      "execution_count": null,
      "metadata": {
        "id": "2vUCHhGrIV4U"
      },
      "outputs": [],
      "source": [
        "cols = ['LINE', 'PRODUCT_CODE']\n",
        "\n",
        "for i in cols:\n",
        "    le = LabelEncoder()\n",
        "    le = le.fit(train[i])\n",
        "    train[i] = le.transform(train[i])\n",
        "    \n",
        "    for label in np.unique(test[i]): \n",
        "        if label not in le.classes_: \n",
        "            le.classes_ = np.append(le.classes_, label)\n",
        "    test[i] = le.transform(test[i])"
      ],
      "id": "2vUCHhGrIV4U"
    },
    {
      "cell_type": "markdown",
      "source": [
        "## **drop**"
      ],
      "metadata": {
        "id": "6vO7o4ZKNXiR"
      },
      "id": "6vO7o4ZKNXiR"
    },
    {
      "cell_type": "code",
      "source": [
        "cols = ['PRODUCT_ID', 'TIMESTAMP']\n",
        "for col in cols:\n",
        "    train.drop([col], axis=1, inplace=True)\n",
        "    test.drop([col], axis=1, inplace=True)"
      ],
      "metadata": {
        "id": "eiqu-BwXNZqq"
      },
      "execution_count": null,
      "outputs": [],
      "id": "eiqu-BwXNZqq"
    },
    {
      "cell_type": "markdown",
      "source": [
        "## **fillna**"
      ],
      "metadata": {
        "id": "UGDMOk6rIoQS"
      },
      "id": "UGDMOk6rIoQS"
    },
    {
      "cell_type": "code",
      "source": [
        "train.fillna(0, inplace=True)\n",
        "test.fillna(0, inplace=True)"
      ],
      "metadata": {
        "id": "rAWWhYGxNty_"
      },
      "execution_count": null,
      "outputs": [],
      "id": "rAWWhYGxNty_"
    },
    {
      "cell_type": "code",
      "execution_count": null,
      "metadata": {
        "colab": {
          "base_uri": "https://localhost:8080/"
        },
        "outputId": "eb90fb33-4ede-45ea-e96e-c56e389f549d",
        "id": "uD_BgMWjIV4V"
      },
      "outputs": [
        {
          "output_type": "stream",
          "name": "stdout",
          "text": [
            "train shape : (598, 2879) \n",
            "test shape : (310, 2877)\n"
          ]
        }
      ],
      "source": [
        "print('train shape :', train.shape, '\\ntest shape :', test.shape)"
      ],
      "id": "uD_BgMWjIV4V"
    },
    {
      "cell_type": "code",
      "execution_count": null,
      "id": "5441d44a",
      "metadata": {
        "colab": {
          "base_uri": "https://localhost:8080/",
          "height": 110
        },
        "id": "5441d44a",
        "outputId": "7120be17-9ec1-4ce1-c149-526a07562257"
      },
      "outputs": [
        {
          "output_type": "execute_result",
          "data": {
            "text/plain": [
              "   Y_Class  Y_Quality  LINE  PRODUCT_CODE  X_1  X_2  X_3  X_4  X_5  X_6  ...  \\\n",
              "0        1   0.533433     2             0  0.0  0.0  0.0  0.0  0.0  0.0  ...   \n",
              "\n",
              "   X_2866  X_2867  X_2868  X_2869  X_2870  X_2871  X_2872  X_2873  X_2874  \\\n",
              "0   39.34   40.89   32.56   34.09   77.77     0.0     0.0     0.0     0.0   \n",
              "\n",
              "   X_2875  \n",
              "0     0.0  \n",
              "\n",
              "[1 rows x 2879 columns]"
            ],
            "text/html": [
              "\n",
              "  <div id=\"df-884ac6ad-43e9-4c84-a5c9-022f1b18999b\">\n",
              "    <div class=\"colab-df-container\">\n",
              "      <div>\n",
              "<style scoped>\n",
              "    .dataframe tbody tr th:only-of-type {\n",
              "        vertical-align: middle;\n",
              "    }\n",
              "\n",
              "    .dataframe tbody tr th {\n",
              "        vertical-align: top;\n",
              "    }\n",
              "\n",
              "    .dataframe thead th {\n",
              "        text-align: right;\n",
              "    }\n",
              "</style>\n",
              "<table border=\"1\" class=\"dataframe\">\n",
              "  <thead>\n",
              "    <tr style=\"text-align: right;\">\n",
              "      <th></th>\n",
              "      <th>Y_Class</th>\n",
              "      <th>Y_Quality</th>\n",
              "      <th>LINE</th>\n",
              "      <th>PRODUCT_CODE</th>\n",
              "      <th>X_1</th>\n",
              "      <th>X_2</th>\n",
              "      <th>X_3</th>\n",
              "      <th>X_4</th>\n",
              "      <th>X_5</th>\n",
              "      <th>X_6</th>\n",
              "      <th>...</th>\n",
              "      <th>X_2866</th>\n",
              "      <th>X_2867</th>\n",
              "      <th>X_2868</th>\n",
              "      <th>X_2869</th>\n",
              "      <th>X_2870</th>\n",
              "      <th>X_2871</th>\n",
              "      <th>X_2872</th>\n",
              "      <th>X_2873</th>\n",
              "      <th>X_2874</th>\n",
              "      <th>X_2875</th>\n",
              "    </tr>\n",
              "  </thead>\n",
              "  <tbody>\n",
              "    <tr>\n",
              "      <th>0</th>\n",
              "      <td>1</td>\n",
              "      <td>0.533433</td>\n",
              "      <td>2</td>\n",
              "      <td>0</td>\n",
              "      <td>0.0</td>\n",
              "      <td>0.0</td>\n",
              "      <td>0.0</td>\n",
              "      <td>0.0</td>\n",
              "      <td>0.0</td>\n",
              "      <td>0.0</td>\n",
              "      <td>...</td>\n",
              "      <td>39.34</td>\n",
              "      <td>40.89</td>\n",
              "      <td>32.56</td>\n",
              "      <td>34.09</td>\n",
              "      <td>77.77</td>\n",
              "      <td>0.0</td>\n",
              "      <td>0.0</td>\n",
              "      <td>0.0</td>\n",
              "      <td>0.0</td>\n",
              "      <td>0.0</td>\n",
              "    </tr>\n",
              "  </tbody>\n",
              "</table>\n",
              "<p>1 rows × 2879 columns</p>\n",
              "</div>\n",
              "      <button class=\"colab-df-convert\" onclick=\"convertToInteractive('df-884ac6ad-43e9-4c84-a5c9-022f1b18999b')\"\n",
              "              title=\"Convert this dataframe to an interactive table.\"\n",
              "              style=\"display:none;\">\n",
              "        \n",
              "  <svg xmlns=\"http://www.w3.org/2000/svg\" height=\"24px\"viewBox=\"0 0 24 24\"\n",
              "       width=\"24px\">\n",
              "    <path d=\"M0 0h24v24H0V0z\" fill=\"none\"/>\n",
              "    <path d=\"M18.56 5.44l.94 2.06.94-2.06 2.06-.94-2.06-.94-.94-2.06-.94 2.06-2.06.94zm-11 1L8.5 8.5l.94-2.06 2.06-.94-2.06-.94L8.5 2.5l-.94 2.06-2.06.94zm10 10l.94 2.06.94-2.06 2.06-.94-2.06-.94-.94-2.06-.94 2.06-2.06.94z\"/><path d=\"M17.41 7.96l-1.37-1.37c-.4-.4-.92-.59-1.43-.59-.52 0-1.04.2-1.43.59L10.3 9.45l-7.72 7.72c-.78.78-.78 2.05 0 2.83L4 21.41c.39.39.9.59 1.41.59.51 0 1.02-.2 1.41-.59l7.78-7.78 2.81-2.81c.8-.78.8-2.07 0-2.86zM5.41 20L4 18.59l7.72-7.72 1.47 1.35L5.41 20z\"/>\n",
              "  </svg>\n",
              "      </button>\n",
              "      \n",
              "  <style>\n",
              "    .colab-df-container {\n",
              "      display:flex;\n",
              "      flex-wrap:wrap;\n",
              "      gap: 12px;\n",
              "    }\n",
              "\n",
              "    .colab-df-convert {\n",
              "      background-color: #E8F0FE;\n",
              "      border: none;\n",
              "      border-radius: 50%;\n",
              "      cursor: pointer;\n",
              "      display: none;\n",
              "      fill: #1967D2;\n",
              "      height: 32px;\n",
              "      padding: 0 0 0 0;\n",
              "      width: 32px;\n",
              "    }\n",
              "\n",
              "    .colab-df-convert:hover {\n",
              "      background-color: #E2EBFA;\n",
              "      box-shadow: 0px 1px 2px rgba(60, 64, 67, 0.3), 0px 1px 3px 1px rgba(60, 64, 67, 0.15);\n",
              "      fill: #174EA6;\n",
              "    }\n",
              "\n",
              "    [theme=dark] .colab-df-convert {\n",
              "      background-color: #3B4455;\n",
              "      fill: #D2E3FC;\n",
              "    }\n",
              "\n",
              "    [theme=dark] .colab-df-convert:hover {\n",
              "      background-color: #434B5C;\n",
              "      box-shadow: 0px 1px 3px 1px rgba(0, 0, 0, 0.15);\n",
              "      filter: drop-shadow(0px 1px 2px rgba(0, 0, 0, 0.3));\n",
              "      fill: #FFFFFF;\n",
              "    }\n",
              "  </style>\n",
              "\n",
              "      <script>\n",
              "        const buttonEl =\n",
              "          document.querySelector('#df-884ac6ad-43e9-4c84-a5c9-022f1b18999b button.colab-df-convert');\n",
              "        buttonEl.style.display =\n",
              "          google.colab.kernel.accessAllowed ? 'block' : 'none';\n",
              "\n",
              "        async function convertToInteractive(key) {\n",
              "          const element = document.querySelector('#df-884ac6ad-43e9-4c84-a5c9-022f1b18999b');\n",
              "          const dataTable =\n",
              "            await google.colab.kernel.invokeFunction('convertToInteractive',\n",
              "                                                     [key], {});\n",
              "          if (!dataTable) return;\n",
              "\n",
              "          const docLinkHtml = 'Like what you see? Visit the ' +\n",
              "            '<a target=\"_blank\" href=https://colab.research.google.com/notebooks/data_table.ipynb>data table notebook</a>'\n",
              "            + ' to learn more about interactive tables.';\n",
              "          element.innerHTML = '';\n",
              "          dataTable['output_type'] = 'display_data';\n",
              "          await google.colab.output.renderOutput(dataTable, element);\n",
              "          const docLink = document.createElement('div');\n",
              "          docLink.innerHTML = docLinkHtml;\n",
              "          element.appendChild(docLink);\n",
              "        }\n",
              "      </script>\n",
              "    </div>\n",
              "  </div>\n",
              "  "
            ]
          },
          "metadata": {},
          "execution_count": 10
        }
      ],
      "source": [
        "train.head(1)"
      ]
    },
    {
      "cell_type": "code",
      "source": [
        "test.head(1)"
      ],
      "metadata": {
        "colab": {
          "base_uri": "https://localhost:8080/",
          "height": 110
        },
        "id": "r58dtWN0ItpF",
        "outputId": "7c446649-a40a-4baa-955a-3120d7a1b908"
      },
      "id": "r58dtWN0ItpF",
      "execution_count": null,
      "outputs": [
        {
          "output_type": "execute_result",
          "data": {
            "text/plain": [
              "   LINE  PRODUCT_CODE  X_1   X_2  X_3   X_4   X_5  X_6   X_7   X_8  ...  \\\n",
              "0     5             2  2.0  94.0  0.0  45.0  10.0  0.0  51.0  10.0  ...   \n",
              "\n",
              "   X_2866  X_2867  X_2868  X_2869  X_2870  X_2871  X_2872  X_2873  X_2874  \\\n",
              "0     0.0     0.0     0.0     0.0     0.0     0.0     0.0     0.0     0.0   \n",
              "\n",
              "   X_2875  \n",
              "0     0.0  \n",
              "\n",
              "[1 rows x 2877 columns]"
            ],
            "text/html": [
              "\n",
              "  <div id=\"df-5493d8d3-e33b-4a3a-9e2d-7947e777eca4\">\n",
              "    <div class=\"colab-df-container\">\n",
              "      <div>\n",
              "<style scoped>\n",
              "    .dataframe tbody tr th:only-of-type {\n",
              "        vertical-align: middle;\n",
              "    }\n",
              "\n",
              "    .dataframe tbody tr th {\n",
              "        vertical-align: top;\n",
              "    }\n",
              "\n",
              "    .dataframe thead th {\n",
              "        text-align: right;\n",
              "    }\n",
              "</style>\n",
              "<table border=\"1\" class=\"dataframe\">\n",
              "  <thead>\n",
              "    <tr style=\"text-align: right;\">\n",
              "      <th></th>\n",
              "      <th>LINE</th>\n",
              "      <th>PRODUCT_CODE</th>\n",
              "      <th>X_1</th>\n",
              "      <th>X_2</th>\n",
              "      <th>X_3</th>\n",
              "      <th>X_4</th>\n",
              "      <th>X_5</th>\n",
              "      <th>X_6</th>\n",
              "      <th>X_7</th>\n",
              "      <th>X_8</th>\n",
              "      <th>...</th>\n",
              "      <th>X_2866</th>\n",
              "      <th>X_2867</th>\n",
              "      <th>X_2868</th>\n",
              "      <th>X_2869</th>\n",
              "      <th>X_2870</th>\n",
              "      <th>X_2871</th>\n",
              "      <th>X_2872</th>\n",
              "      <th>X_2873</th>\n",
              "      <th>X_2874</th>\n",
              "      <th>X_2875</th>\n",
              "    </tr>\n",
              "  </thead>\n",
              "  <tbody>\n",
              "    <tr>\n",
              "      <th>0</th>\n",
              "      <td>5</td>\n",
              "      <td>2</td>\n",
              "      <td>2.0</td>\n",
              "      <td>94.0</td>\n",
              "      <td>0.0</td>\n",
              "      <td>45.0</td>\n",
              "      <td>10.0</td>\n",
              "      <td>0.0</td>\n",
              "      <td>51.0</td>\n",
              "      <td>10.0</td>\n",
              "      <td>...</td>\n",
              "      <td>0.0</td>\n",
              "      <td>0.0</td>\n",
              "      <td>0.0</td>\n",
              "      <td>0.0</td>\n",
              "      <td>0.0</td>\n",
              "      <td>0.0</td>\n",
              "      <td>0.0</td>\n",
              "      <td>0.0</td>\n",
              "      <td>0.0</td>\n",
              "      <td>0.0</td>\n",
              "    </tr>\n",
              "  </tbody>\n",
              "</table>\n",
              "<p>1 rows × 2877 columns</p>\n",
              "</div>\n",
              "      <button class=\"colab-df-convert\" onclick=\"convertToInteractive('df-5493d8d3-e33b-4a3a-9e2d-7947e777eca4')\"\n",
              "              title=\"Convert this dataframe to an interactive table.\"\n",
              "              style=\"display:none;\">\n",
              "        \n",
              "  <svg xmlns=\"http://www.w3.org/2000/svg\" height=\"24px\"viewBox=\"0 0 24 24\"\n",
              "       width=\"24px\">\n",
              "    <path d=\"M0 0h24v24H0V0z\" fill=\"none\"/>\n",
              "    <path d=\"M18.56 5.44l.94 2.06.94-2.06 2.06-.94-2.06-.94-.94-2.06-.94 2.06-2.06.94zm-11 1L8.5 8.5l.94-2.06 2.06-.94-2.06-.94L8.5 2.5l-.94 2.06-2.06.94zm10 10l.94 2.06.94-2.06 2.06-.94-2.06-.94-.94-2.06-.94 2.06-2.06.94z\"/><path d=\"M17.41 7.96l-1.37-1.37c-.4-.4-.92-.59-1.43-.59-.52 0-1.04.2-1.43.59L10.3 9.45l-7.72 7.72c-.78.78-.78 2.05 0 2.83L4 21.41c.39.39.9.59 1.41.59.51 0 1.02-.2 1.41-.59l7.78-7.78 2.81-2.81c.8-.78.8-2.07 0-2.86zM5.41 20L4 18.59l7.72-7.72 1.47 1.35L5.41 20z\"/>\n",
              "  </svg>\n",
              "      </button>\n",
              "      \n",
              "  <style>\n",
              "    .colab-df-container {\n",
              "      display:flex;\n",
              "      flex-wrap:wrap;\n",
              "      gap: 12px;\n",
              "    }\n",
              "\n",
              "    .colab-df-convert {\n",
              "      background-color: #E8F0FE;\n",
              "      border: none;\n",
              "      border-radius: 50%;\n",
              "      cursor: pointer;\n",
              "      display: none;\n",
              "      fill: #1967D2;\n",
              "      height: 32px;\n",
              "      padding: 0 0 0 0;\n",
              "      width: 32px;\n",
              "    }\n",
              "\n",
              "    .colab-df-convert:hover {\n",
              "      background-color: #E2EBFA;\n",
              "      box-shadow: 0px 1px 2px rgba(60, 64, 67, 0.3), 0px 1px 3px 1px rgba(60, 64, 67, 0.15);\n",
              "      fill: #174EA6;\n",
              "    }\n",
              "\n",
              "    [theme=dark] .colab-df-convert {\n",
              "      background-color: #3B4455;\n",
              "      fill: #D2E3FC;\n",
              "    }\n",
              "\n",
              "    [theme=dark] .colab-df-convert:hover {\n",
              "      background-color: #434B5C;\n",
              "      box-shadow: 0px 1px 3px 1px rgba(0, 0, 0, 0.15);\n",
              "      filter: drop-shadow(0px 1px 2px rgba(0, 0, 0, 0.3));\n",
              "      fill: #FFFFFF;\n",
              "    }\n",
              "  </style>\n",
              "\n",
              "      <script>\n",
              "        const buttonEl =\n",
              "          document.querySelector('#df-5493d8d3-e33b-4a3a-9e2d-7947e777eca4 button.colab-df-convert');\n",
              "        buttonEl.style.display =\n",
              "          google.colab.kernel.accessAllowed ? 'block' : 'none';\n",
              "\n",
              "        async function convertToInteractive(key) {\n",
              "          const element = document.querySelector('#df-5493d8d3-e33b-4a3a-9e2d-7947e777eca4');\n",
              "          const dataTable =\n",
              "            await google.colab.kernel.invokeFunction('convertToInteractive',\n",
              "                                                     [key], {});\n",
              "          if (!dataTable) return;\n",
              "\n",
              "          const docLinkHtml = 'Like what you see? Visit the ' +\n",
              "            '<a target=\"_blank\" href=https://colab.research.google.com/notebooks/data_table.ipynb>data table notebook</a>'\n",
              "            + ' to learn more about interactive tables.';\n",
              "          element.innerHTML = '';\n",
              "          dataTable['output_type'] = 'display_data';\n",
              "          await google.colab.output.renderOutput(dataTable, element);\n",
              "          const docLink = document.createElement('div');\n",
              "          docLink.innerHTML = docLinkHtml;\n",
              "          element.appendChild(docLink);\n",
              "        }\n",
              "      </script>\n",
              "    </div>\n",
              "  </div>\n",
              "  "
            ]
          },
          "metadata": {},
          "execution_count": 11
        }
      ]
    },
    {
      "cell_type": "markdown",
      "id": "7e9282cb",
      "metadata": {
        "id": "7e9282cb"
      },
      "source": [
        "# **Model**"
      ]
    },
    {
      "cell_type": "markdown",
      "source": [
        "## **split**"
      ],
      "metadata": {
        "id": "9nTrhsyb6e_F"
      },
      "id": "9nTrhsyb6e_F"
    },
    {
      "cell_type": "code",
      "execution_count": null,
      "metadata": {
        "id": "WCEJ_OWnI5-u"
      },
      "outputs": [],
      "source": [
        "X = train.drop(columns=['Y_Class', 'Y_Quality']) # data\n",
        "y = train['Y_Class']                             # target\n",
        "\n",
        "X_tst = test"
      ],
      "id": "WCEJ_OWnI5-u"
    },
    {
      "cell_type": "code",
      "source": [
        "X_trn, X_val, y_trn, y_val = train_test_split(\n",
        "    X, y, \n",
        "    test_size=0.07,\n",
        "    stratify=y\n",
        ")"
      ],
      "metadata": {
        "id": "4fDRtNfecVe9"
      },
      "execution_count": null,
      "outputs": [],
      "id": "4fDRtNfecVe9"
    },
    {
      "cell_type": "code",
      "source": [
        "print('X_trn (data) :', X_trn.shape, '\\ny_trn (target) :', y_trn.shape, \n",
        "      '\\nX_val (data) :', X_val.shape, '\\ny_val (target) :', y_val.shape)"
      ],
      "metadata": {
        "id": "-4u5NfMDxV9g",
        "colab": {
          "base_uri": "https://localhost:8080/"
        },
        "outputId": "1cc9e0a8-b98f-4147-e37d-888521a41cac"
      },
      "execution_count": null,
      "outputs": [
        {
          "output_type": "stream",
          "name": "stdout",
          "text": [
            "X_trn (data) : (556, 2877) \n",
            "y_trn (target) : (556,) \n",
            "X_val (data) : (42, 2877) \n",
            "y_val (target) : (42,)\n"
          ]
        }
      ],
      "id": "-4u5NfMDxV9g"
    },
    {
      "cell_type": "markdown",
      "source": [
        "## **xgb parameters**"
      ],
      "metadata": {
        "id": "hD6srvQErVKC"
      },
      "id": "hD6srvQErVKC"
    },
    {
      "cell_type": "markdown",
      "source": [
        "- **booster**\n",
        "  - 사용할 부스터 선택\n",
        "  - 'gbtree' : 트리 모델\n",
        "  - 'gblinear' : 선형 모델\n",
        "- **n_estimators**\n",
        "  - 트리 모델 개수\n",
        "  - 100\n",
        "- **learning_rate**\n",
        "  - 학습 단계별로 이전 결과를 얼마나 반영할지 설정 (작을수록 오래 걸림)\n",
        "  - 0.3 `[0, ∞] --- 0.01 ~ 0.2`\n",
        "- min_split_loss\n",
        "  - 트리의 리프 노드에서 추가 분할을 만드는 데 필요한 최소 손실 감소 (클수록 보수적임)\n",
        "  - 0 `[0, ∞]`\n",
        "  - ***과적합이 심하다면, learning_rate 감소(0.01 ~ 0.1) n_estimators 증가***\n",
        "- **max_depth**\n",
        "  - 트리 최대 깊이 (클수록 과적합 가능성 높아짐)\n",
        "  - 6 `[0, ∞] --- 3 ~ 10`\n",
        "  - ***과적합이 심하다면, 감소***\n",
        "- **min_child_weight**\n",
        "  - child에 필요한 instance weight (hessian)의 최소 합계 (클수록 보수적임)\n",
        "  - 1 `[0, ∞]`\n",
        "  - ***과적합이 심하다면, 증가***\n",
        "- max_delta_step\n",
        "  - 클래스가 극도로 불균형할 경우, 로지스틱 회귀에 도움이 됨\n",
        "  - 0 `[0, ∞] --- 1 ~ 10`\n",
        "- **subsample**\n",
        "  - training instances의 subsample 비율로, 과적합 방지 역할 (0.5로 설정하면 학습 데이터의 절반을 랜덤하게 샘플링)\n",
        "  - 1 `(0, 1] --- 0.5 ~ 1`\n",
        "  - ***과적합이 심하다면, 조정***\n",
        "- sampling_method\n",
        "  - training instances를 샘플링하는 데 사용할 method\n",
        "  - uniform : 각 training instances가 선택될 확률이 동일\n",
        "- colsample_by* 매개 변수는 누적적으로 작동\n",
        "  - **colsample_bytree**\n",
        "    - 각 트리를 구성할 때 열의 하위 샘플 비율\n",
        "    - 1 `(0, 1] --- 0.5 ~ 1`\n",
        "    - ***과적합이 심하다면, 조정***\n",
        "  - colsample_bylevel\n",
        "    - 각 수준에 대한 열의 부분표본 비율\n",
        "    - 1 `(0, 1]`\n",
        "  - colsample_bynode\n",
        "    - 각 노드에 대한 열의 하위 표본 비율\n",
        "    - 1 `(0, 1]`\n",
        "- **scale_pos_weight**\n",
        "  - 불균형 클래스에 유용 `음성 데이터 수 / 양성 데이터 수`\n",
        "- **eval_metric**\n",
        "  - logloss"
      ],
      "metadata": {
        "id": "FsDEbMtTeKZ-"
      },
      "id": "FsDEbMtTeKZ-"
    },
    {
      "cell_type": "markdown",
      "source": [
        "## **HyperOpt**"
      ],
      "metadata": {
        "id": "L3uYSxb1eDG-"
      },
      "id": "L3uYSxb1eDG-"
    },
    {
      "cell_type": "code",
      "source": [
        "space = {'learning_rate' : hp.uniform('learning_rate', 0.01, 0.2),\n",
        "         'min_split_loss' : hp.uniform('min_split_loss', 0, 1),\n",
        "         'max_depth' : hp.quniform('max_depth', 3, 15, 1),\n",
        "         'min_child_weight' : hp.quniform('min_child_weight', 1, 10, 1),\n",
        "         'subsample' : hp.uniform('subsample', 0.5, 1),\n",
        "         'colsample_bytree' : hp.uniform('colsample_bytree', 0.5, 1),\n",
        "         'scale_pos_weight' : hp.quniform('scale_pos_weight', 1, 6, 2)} # 'n_estimators' : hp.quniform('n_estimators', 1000, 2000, 100),\n",
        "\n",
        "def objective_func(space):\n",
        "  xgb = XGBClassifier(\n",
        "      learning_rate = space['learning_rate'],\n",
        "      min_split_loss = space['min_split_loss'],\n",
        "      max_depth = int(space['max_depth']),\n",
        "      min_child_weight = int(space['min_child_weight']),\n",
        "      subsample = space['subsample'],\n",
        "      colsample_bytree = space['colsample_bytree'],\n",
        "      scale_pos_weight = int(space['scale_pos_weight'])\n",
        "  )\n",
        "\n",
        "  accuracy = cross_val_score(\n",
        "      xgb,\n",
        "      X_trn,\n",
        "      y_trn,\n",
        "      scoring = 'accuracy',\n",
        "      cv = 2\n",
        "  )\n",
        "\n",
        "  return {'loss' : -1 * np.mean(accuracy), 'status' : STATUS_OK}"
      ],
      "metadata": {
        "id": "spk2bbgjrmpx"
      },
      "id": "spk2bbgjrmpx",
      "execution_count": null,
      "outputs": []
    },
    {
      "cell_type": "code",
      "source": [
        "trials = Trials()\n",
        "best = fmin(\n",
        "    fn = objective_func,\n",
        "    space = space,\n",
        "    algo = tpe.suggest,\n",
        "    max_evals = 100,\n",
        "    trials = trials\n",
        ")\n",
        "print('best :', best)"
      ],
      "metadata": {
        "colab": {
          "base_uri": "https://localhost:8080/"
        },
        "id": "R2hEjZ4FwvST",
        "outputId": "20516054-ec23-4a5f-c143-184c246d83b7"
      },
      "id": "R2hEjZ4FwvST",
      "execution_count": null,
      "outputs": [
        {
          "output_type": "stream",
          "name": "stdout",
          "text": [
            "100%|██████████| 100/100 [1:53:20<00:00, 68.00s/it, best loss: -0.7553956834532374]\n",
            "best : {'colsample_bytree': 0.7033642809778637, 'learning_rate': 0.14042298986174134, 'max_depth': 5.0, 'min_child_weight': 2.0, 'min_split_loss': 0.7002219052816658, 'scale_pos_weight': 2.0, 'subsample': 0.9753902224969269}\n"
          ]
        }
      ]
    },
    {
      "cell_type": "code",
      "source": [
        "xgb_best = XGBClassifier(\n",
        "    learning_rate = round(0.14042298986174134, 5),\n",
        "    min_split_loss = round(0.7002219052816658, 5),\n",
        "    max_depth = 5,\n",
        "    min_child_weight = 2,\n",
        "    subsample = round(0.9753902224969269, 5),\n",
        "    colsample_bytree = round(0.7033642809778637, 5),\n",
        "    scale_pos_weight = 2,\n",
        "    n_estimators = 500\n",
        ")\n",
        "\n",
        "evals = [(X_trn, y_trn), (X_val, y_val)]\n",
        "xgb_best.fit(\n",
        "    X_trn,\n",
        "    y_trn,\n",
        "    early_stopping_rounds=100,\n",
        "    eval_metric='mlogloss', # logloss 안 됨\n",
        "    eval_set=evals,\n",
        "    verbose=True\n",
        ")"
      ],
      "metadata": {
        "id": "GITfcALy7P_1",
        "colab": {
          "base_uri": "https://localhost:8080/"
        },
        "outputId": "bc2eba63-bcf1-4868-ea76-3b9b72ecf661"
      },
      "id": "GITfcALy7P_1",
      "execution_count": null,
      "outputs": [
        {
          "output_type": "stream",
          "name": "stdout",
          "text": [
            "[0]\tvalidation_0-mlogloss:0.974124\tvalidation_1-mlogloss:1.01004\n",
            "Multiple eval metrics have been passed: 'validation_1-mlogloss' will be used for early stopping.\n",
            "\n",
            "Will train until validation_1-mlogloss hasn't improved in 100 rounds.\n",
            "[1]\tvalidation_0-mlogloss:0.881661\tvalidation_1-mlogloss:0.925151\n",
            "[2]\tvalidation_0-mlogloss:0.804188\tvalidation_1-mlogloss:0.870941\n",
            "[3]\tvalidation_0-mlogloss:0.7369\tvalidation_1-mlogloss:0.820177\n",
            "[4]\tvalidation_0-mlogloss:0.680612\tvalidation_1-mlogloss:0.774169\n",
            "[5]\tvalidation_0-mlogloss:0.635839\tvalidation_1-mlogloss:0.739376\n",
            "[6]\tvalidation_0-mlogloss:0.594031\tvalidation_1-mlogloss:0.703743\n",
            "[7]\tvalidation_0-mlogloss:0.556154\tvalidation_1-mlogloss:0.680655\n",
            "[8]\tvalidation_0-mlogloss:0.526571\tvalidation_1-mlogloss:0.656782\n",
            "[9]\tvalidation_0-mlogloss:0.496107\tvalidation_1-mlogloss:0.633227\n",
            "[10]\tvalidation_0-mlogloss:0.467338\tvalidation_1-mlogloss:0.611973\n",
            "[11]\tvalidation_0-mlogloss:0.438742\tvalidation_1-mlogloss:0.607481\n",
            "[12]\tvalidation_0-mlogloss:0.417062\tvalidation_1-mlogloss:0.602307\n",
            "[13]\tvalidation_0-mlogloss:0.397978\tvalidation_1-mlogloss:0.59292\n",
            "[14]\tvalidation_0-mlogloss:0.37664\tvalidation_1-mlogloss:0.583105\n",
            "[15]\tvalidation_0-mlogloss:0.358316\tvalidation_1-mlogloss:0.579577\n",
            "[16]\tvalidation_0-mlogloss:0.340365\tvalidation_1-mlogloss:0.577432\n",
            "[17]\tvalidation_0-mlogloss:0.32218\tvalidation_1-mlogloss:0.572\n",
            "[18]\tvalidation_0-mlogloss:0.307503\tvalidation_1-mlogloss:0.568866\n",
            "[19]\tvalidation_0-mlogloss:0.294064\tvalidation_1-mlogloss:0.561616\n",
            "[20]\tvalidation_0-mlogloss:0.279717\tvalidation_1-mlogloss:0.555202\n",
            "[21]\tvalidation_0-mlogloss:0.270343\tvalidation_1-mlogloss:0.552292\n",
            "[22]\tvalidation_0-mlogloss:0.257698\tvalidation_1-mlogloss:0.547423\n",
            "[23]\tvalidation_0-mlogloss:0.247313\tvalidation_1-mlogloss:0.546853\n",
            "[24]\tvalidation_0-mlogloss:0.241004\tvalidation_1-mlogloss:0.544688\n",
            "[25]\tvalidation_0-mlogloss:0.232674\tvalidation_1-mlogloss:0.549233\n",
            "[26]\tvalidation_0-mlogloss:0.224771\tvalidation_1-mlogloss:0.550434\n",
            "[27]\tvalidation_0-mlogloss:0.218286\tvalidation_1-mlogloss:0.548791\n",
            "[28]\tvalidation_0-mlogloss:0.209489\tvalidation_1-mlogloss:0.553796\n",
            "[29]\tvalidation_0-mlogloss:0.204181\tvalidation_1-mlogloss:0.555152\n",
            "[30]\tvalidation_0-mlogloss:0.196572\tvalidation_1-mlogloss:0.551615\n",
            "[31]\tvalidation_0-mlogloss:0.189929\tvalidation_1-mlogloss:0.549404\n",
            "[32]\tvalidation_0-mlogloss:0.184187\tvalidation_1-mlogloss:0.550157\n",
            "[33]\tvalidation_0-mlogloss:0.179303\tvalidation_1-mlogloss:0.553307\n",
            "[34]\tvalidation_0-mlogloss:0.174979\tvalidation_1-mlogloss:0.550886\n",
            "[35]\tvalidation_0-mlogloss:0.168653\tvalidation_1-mlogloss:0.547614\n",
            "[36]\tvalidation_0-mlogloss:0.164356\tvalidation_1-mlogloss:0.547792\n",
            "[37]\tvalidation_0-mlogloss:0.16033\tvalidation_1-mlogloss:0.546524\n",
            "[38]\tvalidation_0-mlogloss:0.155171\tvalidation_1-mlogloss:0.545025\n",
            "[39]\tvalidation_0-mlogloss:0.150919\tvalidation_1-mlogloss:0.544705\n",
            "[40]\tvalidation_0-mlogloss:0.146607\tvalidation_1-mlogloss:0.54338\n",
            "[41]\tvalidation_0-mlogloss:0.14312\tvalidation_1-mlogloss:0.545242\n",
            "[42]\tvalidation_0-mlogloss:0.139475\tvalidation_1-mlogloss:0.542525\n",
            "[43]\tvalidation_0-mlogloss:0.137186\tvalidation_1-mlogloss:0.541842\n",
            "[44]\tvalidation_0-mlogloss:0.133687\tvalidation_1-mlogloss:0.546621\n",
            "[45]\tvalidation_0-mlogloss:0.130709\tvalidation_1-mlogloss:0.545191\n",
            "[46]\tvalidation_0-mlogloss:0.126725\tvalidation_1-mlogloss:0.539035\n",
            "[47]\tvalidation_0-mlogloss:0.124034\tvalidation_1-mlogloss:0.545394\n",
            "[48]\tvalidation_0-mlogloss:0.120856\tvalidation_1-mlogloss:0.549695\n",
            "[49]\tvalidation_0-mlogloss:0.118346\tvalidation_1-mlogloss:0.547071\n",
            "[50]\tvalidation_0-mlogloss:0.118345\tvalidation_1-mlogloss:0.547093\n",
            "[51]\tvalidation_0-mlogloss:0.115058\tvalidation_1-mlogloss:0.544821\n",
            "[52]\tvalidation_0-mlogloss:0.115054\tvalidation_1-mlogloss:0.544888\n",
            "[53]\tvalidation_0-mlogloss:0.114015\tvalidation_1-mlogloss:0.545183\n",
            "[54]\tvalidation_0-mlogloss:0.112142\tvalidation_1-mlogloss:0.546621\n",
            "[55]\tvalidation_0-mlogloss:0.112141\tvalidation_1-mlogloss:0.546663\n",
            "[56]\tvalidation_0-mlogloss:0.110826\tvalidation_1-mlogloss:0.547836\n",
            "[57]\tvalidation_0-mlogloss:0.109481\tvalidation_1-mlogloss:0.547876\n",
            "[58]\tvalidation_0-mlogloss:0.108069\tvalidation_1-mlogloss:0.546178\n",
            "[59]\tvalidation_0-mlogloss:0.107019\tvalidation_1-mlogloss:0.547659\n",
            "[60]\tvalidation_0-mlogloss:0.10672\tvalidation_1-mlogloss:0.546727\n",
            "[61]\tvalidation_0-mlogloss:0.105967\tvalidation_1-mlogloss:0.545408\n",
            "[62]\tvalidation_0-mlogloss:0.104214\tvalidation_1-mlogloss:0.547914\n",
            "[63]\tvalidation_0-mlogloss:0.104214\tvalidation_1-mlogloss:0.547908\n",
            "[64]\tvalidation_0-mlogloss:0.103721\tvalidation_1-mlogloss:0.550682\n",
            "[65]\tvalidation_0-mlogloss:0.102992\tvalidation_1-mlogloss:0.551876\n",
            "[66]\tvalidation_0-mlogloss:0.102031\tvalidation_1-mlogloss:0.551739\n",
            "[67]\tvalidation_0-mlogloss:0.101768\tvalidation_1-mlogloss:0.552773\n",
            "[68]\tvalidation_0-mlogloss:0.101768\tvalidation_1-mlogloss:0.552771\n",
            "[69]\tvalidation_0-mlogloss:0.101768\tvalidation_1-mlogloss:0.552774\n",
            "[70]\tvalidation_0-mlogloss:0.101158\tvalidation_1-mlogloss:0.552771\n",
            "[71]\tvalidation_0-mlogloss:0.100497\tvalidation_1-mlogloss:0.55366\n",
            "[72]\tvalidation_0-mlogloss:0.09985\tvalidation_1-mlogloss:0.552926\n",
            "[73]\tvalidation_0-mlogloss:0.09985\tvalidation_1-mlogloss:0.552934\n",
            "[74]\tvalidation_0-mlogloss:0.09985\tvalidation_1-mlogloss:0.552892\n",
            "[75]\tvalidation_0-mlogloss:0.099508\tvalidation_1-mlogloss:0.552914\n",
            "[76]\tvalidation_0-mlogloss:0.097485\tvalidation_1-mlogloss:0.551637\n",
            "[77]\tvalidation_0-mlogloss:0.096849\tvalidation_1-mlogloss:0.552835\n",
            "[78]\tvalidation_0-mlogloss:0.096849\tvalidation_1-mlogloss:0.552825\n",
            "[79]\tvalidation_0-mlogloss:0.096848\tvalidation_1-mlogloss:0.552831\n",
            "[80]\tvalidation_0-mlogloss:0.096195\tvalidation_1-mlogloss:0.553776\n",
            "[81]\tvalidation_0-mlogloss:0.096194\tvalidation_1-mlogloss:0.553778\n",
            "[82]\tvalidation_0-mlogloss:0.095212\tvalidation_1-mlogloss:0.553676\n",
            "[83]\tvalidation_0-mlogloss:0.094933\tvalidation_1-mlogloss:0.554127\n",
            "[84]\tvalidation_0-mlogloss:0.094476\tvalidation_1-mlogloss:0.552949\n",
            "[85]\tvalidation_0-mlogloss:0.093747\tvalidation_1-mlogloss:0.555385\n",
            "[86]\tvalidation_0-mlogloss:0.09299\tvalidation_1-mlogloss:0.555277\n",
            "[87]\tvalidation_0-mlogloss:0.09299\tvalidation_1-mlogloss:0.555243\n",
            "[88]\tvalidation_0-mlogloss:0.092387\tvalidation_1-mlogloss:0.55571\n",
            "[89]\tvalidation_0-mlogloss:0.092387\tvalidation_1-mlogloss:0.555699\n",
            "[90]\tvalidation_0-mlogloss:0.092387\tvalidation_1-mlogloss:0.555673\n",
            "[91]\tvalidation_0-mlogloss:0.092387\tvalidation_1-mlogloss:0.555688\n",
            "[92]\tvalidation_0-mlogloss:0.091714\tvalidation_1-mlogloss:0.557316\n",
            "[93]\tvalidation_0-mlogloss:0.091368\tvalidation_1-mlogloss:0.5594\n",
            "[94]\tvalidation_0-mlogloss:0.090698\tvalidation_1-mlogloss:0.559239\n",
            "[95]\tvalidation_0-mlogloss:0.090128\tvalidation_1-mlogloss:0.561171\n",
            "[96]\tvalidation_0-mlogloss:0.090128\tvalidation_1-mlogloss:0.561141\n",
            "[97]\tvalidation_0-mlogloss:0.089556\tvalidation_1-mlogloss:0.561566\n",
            "[98]\tvalidation_0-mlogloss:0.088869\tvalidation_1-mlogloss:0.563318\n",
            "[99]\tvalidation_0-mlogloss:0.088869\tvalidation_1-mlogloss:0.563285\n",
            "[100]\tvalidation_0-mlogloss:0.088869\tvalidation_1-mlogloss:0.563278\n",
            "[101]\tvalidation_0-mlogloss:0.08887\tvalidation_1-mlogloss:0.563249\n",
            "[102]\tvalidation_0-mlogloss:0.08887\tvalidation_1-mlogloss:0.563231\n",
            "[103]\tvalidation_0-mlogloss:0.088869\tvalidation_1-mlogloss:0.563241\n",
            "[104]\tvalidation_0-mlogloss:0.088869\tvalidation_1-mlogloss:0.563229\n",
            "[105]\tvalidation_0-mlogloss:0.088869\tvalidation_1-mlogloss:0.563223\n",
            "[106]\tvalidation_0-mlogloss:0.088291\tvalidation_1-mlogloss:0.564217\n",
            "[107]\tvalidation_0-mlogloss:0.088291\tvalidation_1-mlogloss:0.56424\n",
            "[108]\tvalidation_0-mlogloss:0.088291\tvalidation_1-mlogloss:0.56426\n",
            "[109]\tvalidation_0-mlogloss:0.087953\tvalidation_1-mlogloss:0.563723\n",
            "[110]\tvalidation_0-mlogloss:0.087953\tvalidation_1-mlogloss:0.563761\n",
            "[111]\tvalidation_0-mlogloss:0.087342\tvalidation_1-mlogloss:0.560174\n",
            "[112]\tvalidation_0-mlogloss:0.087342\tvalidation_1-mlogloss:0.560167\n",
            "[113]\tvalidation_0-mlogloss:0.087342\tvalidation_1-mlogloss:0.560174\n",
            "[114]\tvalidation_0-mlogloss:0.087111\tvalidation_1-mlogloss:0.561301\n",
            "[115]\tvalidation_0-mlogloss:0.08686\tvalidation_1-mlogloss:0.561699\n",
            "[116]\tvalidation_0-mlogloss:0.086859\tvalidation_1-mlogloss:0.561711\n",
            "[117]\tvalidation_0-mlogloss:0.086245\tvalidation_1-mlogloss:0.565283\n",
            "[118]\tvalidation_0-mlogloss:0.086244\tvalidation_1-mlogloss:0.565262\n",
            "[119]\tvalidation_0-mlogloss:0.086245\tvalidation_1-mlogloss:0.56526\n",
            "[120]\tvalidation_0-mlogloss:0.086245\tvalidation_1-mlogloss:0.565241\n",
            "[121]\tvalidation_0-mlogloss:0.085919\tvalidation_1-mlogloss:0.565661\n",
            "[122]\tvalidation_0-mlogloss:0.085919\tvalidation_1-mlogloss:0.565616\n",
            "[123]\tvalidation_0-mlogloss:0.085361\tvalidation_1-mlogloss:0.567801\n",
            "[124]\tvalidation_0-mlogloss:0.08536\tvalidation_1-mlogloss:0.567884\n",
            "[125]\tvalidation_0-mlogloss:0.08536\tvalidation_1-mlogloss:0.5679\n",
            "[126]\tvalidation_0-mlogloss:0.084935\tvalidation_1-mlogloss:0.567994\n",
            "[127]\tvalidation_0-mlogloss:0.083973\tvalidation_1-mlogloss:0.567526\n",
            "[128]\tvalidation_0-mlogloss:0.08361\tvalidation_1-mlogloss:0.566572\n",
            "[129]\tvalidation_0-mlogloss:0.083225\tvalidation_1-mlogloss:0.565185\n",
            "[130]\tvalidation_0-mlogloss:0.083225\tvalidation_1-mlogloss:0.565212\n",
            "[131]\tvalidation_0-mlogloss:0.083225\tvalidation_1-mlogloss:0.565222\n",
            "[132]\tvalidation_0-mlogloss:0.083225\tvalidation_1-mlogloss:0.565225\n",
            "[133]\tvalidation_0-mlogloss:0.083225\tvalidation_1-mlogloss:0.565194\n",
            "[134]\tvalidation_0-mlogloss:0.083225\tvalidation_1-mlogloss:0.56519\n",
            "[135]\tvalidation_0-mlogloss:0.083225\tvalidation_1-mlogloss:0.565162\n",
            "[136]\tvalidation_0-mlogloss:0.083225\tvalidation_1-mlogloss:0.565136\n",
            "[137]\tvalidation_0-mlogloss:0.083225\tvalidation_1-mlogloss:0.565102\n",
            "[138]\tvalidation_0-mlogloss:0.083225\tvalidation_1-mlogloss:0.565133\n",
            "[139]\tvalidation_0-mlogloss:0.083225\tvalidation_1-mlogloss:0.565134\n",
            "[140]\tvalidation_0-mlogloss:0.083225\tvalidation_1-mlogloss:0.565087\n",
            "[141]\tvalidation_0-mlogloss:0.083225\tvalidation_1-mlogloss:0.565092\n",
            "[142]\tvalidation_0-mlogloss:0.083225\tvalidation_1-mlogloss:0.565104\n",
            "[143]\tvalidation_0-mlogloss:0.083225\tvalidation_1-mlogloss:0.565127\n",
            "[144]\tvalidation_0-mlogloss:0.083225\tvalidation_1-mlogloss:0.565129\n",
            "[145]\tvalidation_0-mlogloss:0.082741\tvalidation_1-mlogloss:0.562266\n",
            "[146]\tvalidation_0-mlogloss:0.082414\tvalidation_1-mlogloss:0.562958\n",
            "Stopping. Best iteration:\n",
            "[46]\tvalidation_0-mlogloss:0.126725\tvalidation_1-mlogloss:0.539035\n",
            "\n"
          ]
        },
        {
          "output_type": "execute_result",
          "data": {
            "text/plain": [
              "XGBClassifier(colsample_bytree=0.70336, learning_rate=0.14042, max_depth=5,\n",
              "              min_child_weight=2, min_split_loss=0.70022, n_estimators=500,\n",
              "              objective='multi:softprob', scale_pos_weight=2,\n",
              "              subsample=0.97539)"
            ]
          },
          "metadata": {},
          "execution_count": 22
        }
      ]
    },
    {
      "cell_type": "code",
      "source": [
        "pred = xgb_best.predict(X_tst)\n",
        "\n",
        "sample_submission['Y_Class'] = pred\n",
        "sample_submission.to_csv(data_path + 'xgb_hyperopt_1.csv', index=False)"
      ],
      "metadata": {
        "id": "5VgnOtcO8wem"
      },
      "id": "5VgnOtcO8wem",
      "execution_count": null,
      "outputs": []
    },
    {
      "cell_type": "markdown",
      "id": "6605102f",
      "metadata": {
        "id": "6605102f"
      },
      "source": [
        "# **Result**"
      ]
    },
    {
      "cell_type": "code",
      "execution_count": null,
      "id": "4732438c",
      "metadata": {
        "id": "4732438c",
        "outputId": "1e6d37a1-3552-420d-80e5-fbd3e0245cf1",
        "colab": {
          "base_uri": "https://localhost:8080/"
        }
      },
      "outputs": [
        {
          "output_type": "execute_result",
          "data": {
            "text/plain": [
              "1    264\n",
              "0     43\n",
              "2      3\n",
              "Name: Y_Class, dtype: int64"
            ]
          },
          "metadata": {},
          "execution_count": 24
        }
      ],
      "source": [
        "xgb_hyperopt_1 = pd.read_csv(data_path + 'xgb_hyperopt_1.csv')\n",
        "xgb_hyperopt_1.Y_Class.value_counts()"
      ]
    }
  ],
  "metadata": {
    "kernelspec": {
      "display_name": "py39_env",
      "language": "python",
      "name": "python3"
    },
    "language_info": {
      "codemirror_mode": {
        "name": "ipython",
        "version": 3
      },
      "file_extension": ".py",
      "mimetype": "text/x-python",
      "name": "python",
      "nbconvert_exporter": "python",
      "pygments_lexer": "ipython3",
      "version": "3.9.15"
    },
    "vscode": {
      "interpreter": {
        "hash": "a8c8bec5cc0c362bf9eee36b36fc26918edda74392b07a5cfd5fc0a1c1ef43da"
      }
    },
    "colab": {
      "provenance": []
    },
    "accelerator": "GPU",
    "gpuClass": "standard"
  },
  "nbformat": 4,
  "nbformat_minor": 5
}